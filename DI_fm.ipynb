{
 "cells": [
  {
   "cell_type": "markdown",
   "id": "9ff91dd0-bbce-4d0b-940a-8481f0a8d38e",
   "metadata": {},
   "source": [
    "# DI.fm - Generate Playlists"
   ]
  },
  {
   "cell_type": "code",
   "execution_count": null,
   "id": "66fa1f59-f7ee-4088-aa12-6fbd6c94e5be",
   "metadata": {
    "scrolled": true
   },
   "outputs": [],
   "source": [
    "!pip install bs4\n",
    "!pip install requests"
   ]
  },
  {
   "cell_type": "code",
   "execution_count": 1,
   "id": "fe274fc5-27e2-4235-9e1c-a1d82bcac4dc",
   "metadata": {},
   "outputs": [],
   "source": [
    "import requests, os\n",
    "from bs4 import BeautifulSoup"
   ]
  },
  {
   "cell_type": "markdown",
   "id": "3ce8582f-03e9-4ddd-9b6d-5967f1059220",
   "metadata": {},
   "source": [
    "`ALL_CHANNELS`: Webscrapping DI.fm is a no-go. But there is this JSON where every channel's currently played song is reported. We are getting the channel names from there.\n",
    "\n",
    "`CHANNEL_URL`: Each channel URL is formed like this\n",
    "\n",
    "`KEY`: Create a `di_fm.key` text file where you place your KEY. No line breaks or anything, just the key."
   ]
  },
  {
   "cell_type": "code",
   "execution_count": 2,
   "id": "1a81ffe5-74ce-4eef-aaa4-d29be8d14b10",
   "metadata": {},
   "outputs": [],
   "source": [
    "ALL_CHANNELS = \"https://api.audioaddict.com/v1/di/currently_playing\"  # All channels exist here!\n",
    "# https://api.audioaddict.com/v1/rockradio/currently_playing\n",
    "# https://api.audioaddict.com/v1/zenradio/currently_playing\n",
    "# https://api.audioaddict.com/v1/jazzradio/currently_playing\n",
    "# https://api.audioaddict.com/v1/classicalradio/currently_playing\n",
    "# https://api.audioaddict.com/v1/radiotunes/currently_playing\n",
    "CHANNEL_URL  = \"http://api.audioaddict.com/v1/di/listen/premium_high/%s.pls?listen_key=%s\"\n",
    "KEY          = open('di_fm.key', 'r').read()"
   ]
  },
  {
   "cell_type": "markdown",
   "id": "7fe4dfbf-0857-465d-89f4-511740b91e85",
   "metadata": {},
   "source": [
    "Let's try to \"invent\" our own groups, by using keywords. Far from perfect, but I couldn't find a way to scrap DI.fm's original grouping. Suit yourself modifying them. What didn't fall into any of your groups, will fall into the `('else', '')` group. We will get the `channel_name` for each channel, which is the string we will use to build the actual stream URLs."
   ]
  },
  {
   "cell_type": "code",
   "execution_count": 10,
   "id": "a5da9c05-1339-4f58-865b-c0611a83eae3",
   "metadata": {},
   "outputs": [],
   "source": [
    "groups = {\n",
    "    ('house', 'deep', 'disco'): [],\n",
    "    ('chill', 'lounge', 'down', 'lofi', 'ambient'): [],\n",
    "    ('club', 'hits'): [],\n",
    "    ('trance', ): [],\n",
    "    ('classic', 'hits'): [],\n",
    "    ('vocal', ): [],\n",
    "    ('tech', 'minimal', 'hard'): [],\n",
    "    ('jungle', 'dnb', 'drum', 'beat'): [],\n",
    "    ('oldschool', 'classic'): [],\n",
    "    ('psy', 'progressive'): [],\n",
    "    ('oldschool', 'classic'): [],\n",
    "    ('indie', 'future'): [],\n",
    "    ('drum', 'break'): [],\n",
    "    ('electro', 'edm'): [],\n",
    "    ('else',): []\n",
    "}\n",
    "\n",
    "headers = { # DI.fm ignores non-standard clients. So we say we are Chrome\n",
    "    'User-Agent': 'Mozilla/5.0 (Windows NT 10.0; Win64; x64) AppleWebKit/537.36 (KHTML, like Gecko) Chrome/124.0.0.0 Safari/537.36',\n",
    "}\n",
    "\n",
    "channels = requests.get(ALL_CHANNELS, headers=headers)\n",
    "for channel in channels.json():\n",
    "    found = False\n",
    "    channel_url  = CHANNEL_URL % (channel['channel_key'], KEY)\n",
    "    channel_pls  = requests.get(channel_url, headers=headers)\n",
    "    channel_name = channel_pls.headers['Content-Disposition'][channel_pls.headers['Content-Disposition'].find(' - '):][3:-5]\n",
    "    for group in groups.keys():\n",
    "        for elm in group:\n",
    "            if channel['channel_key'].find(elm) > -1:\n",
    "                groups[group].append((channel['channel_key'], channel_name))\n",
    "                found = True\n",
    "                break\n",
    "        if found:\n",
    "            break\n",
    "    if not found:\n",
    "        groups[('else',)].append((channel['channel_key'], channel_name))"
   ]
  },
  {
   "cell_type": "markdown",
   "id": "035951da-c81f-4949-bfaa-e18e7c9c3ea8",
   "metadata": {},
   "source": [
    "Now, we get the actual URL for each stream. We know the `channel_name`, now we just need to define the right url, by setting `kbps` to either `64`, `128` or `320`. And with that, build the playlist for each group."
   ]
  },
  {
   "cell_type": "code",
   "execution_count": 11,
   "id": "75e4deb9-7875-4b35-b782-ae79bf315071",
   "metadata": {},
   "outputs": [],
   "source": [
    "kbps = 320\n",
    "stream_urls = {\n",
    "    320: 'http://prem1.di.fm:80/%s_hi?%s',\n",
    "    128: 'http://prem1.di.fm:80/%s?%s',\n",
    "    64 : 'http://prem1.di.fm:80/%s_aac?%s',\n",
    "}\n",
    "\n",
    "header = \"\"\"[playlist]\n",
    "NumberOfEntries=%i\n",
    "\"\"\"\n",
    "entry = \"\"\"File%i=\"\"\" + stream_urls[kbps] + \"\"\"\n",
    "Title1=DI.FM - %s\n",
    "Length%i=0\n",
    "\"\"\"\n",
    "for group_name, group_members in groups.items():\n",
    "    # print(group_name)\n",
    "    if len(group_name) > 1:\n",
    "        group_name = ' + '.join((gn.title() for gn in group_name))\n",
    "    else:\n",
    "        group_name = group_name[0]\n",
    "    group_list = [header % len(group_members)]\n",
    "    channel_num = 0\n",
    "    for channel_key, channel_name in group_members:\n",
    "        # print(' - ', channel_name)\n",
    "        group_list.append(entry % (channel_num, channel_key, KEY, channel_name, channel_num))\n",
    "        channel_num+=1\n",
    "    open(os.path.join('pls', 'DI_fm - ' + group_name + '.pls'), 'w').write('\\n'.join(group_list))"
   ]
  },
  {
   "cell_type": "code",
   "execution_count": 5,
   "id": "ee36f578-b78d-4f1c-a510-6d9d38665f55",
   "metadata": {},
   "outputs": [
    {
     "name": "stdout",
     "output_type": "stream",
     "text": [
      "[playlist]\n",
      "NumberOfEntries=15\n",
      "\n",
      "File0=http://prem1.di.fm:80/bassline_hi?9564836dd232258\n",
      "Title1=DI.FM - Bassline\n",
      "Length0=0\n",
      "\n",
      "File1=http://prem1.di.fm:80/djmixes_hi?9564836dd232258\n",
      "Title1=DI.FM - DJ Mixes\n",
      "Length1=0\n",
      "\n",
      "File2=http://prem1.di.fm:80/dub_hi?9564836dd232258\n",
      "Title1=DI.FM - Dub\n",
      "Length2=0\n",
      "\n",
      "File3=http://prem1.di.fm:80/dubstep_hi?9564836dd232258\n",
      "Title1=DI.FM - Dubstep\n",
      "Length3=0\n",
      "\n",
      "File4=http://prem1.di.fm:80/eurodance_hi?9564836dd232258\n",
      "Title1=DI.FM - EuroDance\n",
      "Length4=0\n",
      "\n",
      "File5=http://prem1.di.fm:80/gabber_hi?9564836dd232258\n",
      "Title1=DI.FM - Gabber\n",
      "Length5=0\n",
      "\n",
      "File6=http://prem1.di.fm:80/glitchhop_hi?9564836dd232258\n",
      "Title1=DI.FM - Glitch Hop\n",
      "Length6=0\n",
      "\n",
      "File7=http://prem1.di.fm:80/handsup_hi?9564836dd232258\n",
      "Title1=DI.FM - Hands Up\n",
      "Length7=0\n",
      "\n",
      "File8=http://prem1.di.fm:80/liquiddubstep_hi?9564836dd232258\n",
      "Title1=DI.FM - Liquid Dubstep\n",
      "Length8=0\n",
      "\n",
      "File9=http://prem1.di.fm:80/liquidtrap_hi?9564836dd232258\n",
      "Title1=DI.FM - Liquid Trap\n",
      "Length9=0\n",
      "\n",
      "File10=http://prem1.di.fm:80/nightcore_hi?9564836dd232258\n",
      "Title1=DI.FM - Nightcore\n",
      "Length10=0\n",
      "\n",
      "File11=http://prem1.di.fm:80/spacemusic_hi?9564836dd232258\n",
      "Title1=DI.FM - Space Dreams\n",
      "Length11=0\n",
      "\n",
      "File12=http://prem1.di.fm:80/synthwave_hi?9564836dd232258\n",
      "Title1=DI.FM - Synthwave\n",
      "Length12=0\n",
      "\n",
      "File13=http://prem1.di.fm:80/trap_hi?9564836dd232258\n",
      "Title1=DI.FM - Trap\n",
      "Length13=0\n",
      "\n",
      "File14=http://prem1.di.fm:80/umfradio_hi?9564836dd232258\n",
      "Title1=DI.FM - UMF Radio\n",
      "Length14=0\n",
      "\n"
     ]
    }
   ],
   "source": [
    "print('\\n'.join(group_list))"
   ]
  },
  {
   "cell_type": "code",
   "execution_count": null,
   "id": "4a59642d-8ade-49ab-a886-76de42f8973b",
   "metadata": {},
   "outputs": [],
   "source": []
  }
 ],
 "metadata": {
  "kernelspec": {
   "display_name": "Python 3 (ipykernel)",
   "language": "python",
   "name": "python3"
  },
  "language_info": {
   "codemirror_mode": {
    "name": "ipython",
    "version": 3
   },
   "file_extension": ".py",
   "mimetype": "text/x-python",
   "name": "python",
   "nbconvert_exporter": "python",
   "pygments_lexer": "ipython3",
   "version": "3.11.7"
  }
 },
 "nbformat": 4,
 "nbformat_minor": 5
}
